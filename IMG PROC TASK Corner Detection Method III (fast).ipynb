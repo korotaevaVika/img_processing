{
 "cells": [
  {
   "cell_type": "code",
   "execution_count": 33,
   "metadata": {
    "collapsed": true
   },
   "outputs": [],
   "source": [
    "%matplotlib inline \n",
    "   \n",
    "import ipywidgets as widgets    \n",
    "import numpy as np\n",
    "import matplotlib.image as mpimg\n",
    "import matplotlib.pyplot as plt\n",
    "import cv2\n",
    "\n",
    "from IPython.display import clear_output"
   ]
  },
  {
   "cell_type": "code",
   "execution_count": 34,
   "metadata": {
    "collapsed": true
   },
   "outputs": [],
   "source": [
    "\n",
    "# FastFeatureDetector::create(\n",
    "# int \n",
    "# threshold = 10, \n",
    "# bool \n",
    "# nonmaxSuppression = true, \n",
    "# int \n",
    "# type = FastFeatureDetector::TYPE_9_16 \n",
    "# )\n"
   ]
  },
  {
   "cell_type": "code",
   "execution_count": 35,
   "metadata": {
    "collapsed": true
   },
   "outputs": [],
   "source": [
    "img = cv2.imread('Sudoku.png') # Sudoku\n",
    "gray = cv2.cvtColor(img, cv2.COLOR_RGB2GRAY)\n"
   ]
  },
  {
   "cell_type": "code",
   "execution_count": 38,
   "metadata": {},
   "outputs": [
    {
     "name": "stdout",
     "output_type": "stream",
     "text": [
      "threshold:\n"
     ]
    },
    {
     "data": {
      "application/vnd.jupyter.widget-view+json": {
       "model_id": "c12bdf67cba741d2bf3ce3d846d673a2",
       "version_major": 2,
       "version_minor": 0
      },
      "text/plain": [
       "A Jupyter Widget"
      ]
     },
     "metadata": {},
     "output_type": "display_data"
    },
    {
     "name": "stdout",
     "output_type": "stream",
     "text": [
      "nonmaxSuppression:\n"
     ]
    },
    {
     "data": {
      "application/vnd.jupyter.widget-view+json": {
       "model_id": "00c268ecc25c4d5f884fee7f069d8b3b",
       "version_major": 2,
       "version_minor": 0
      },
      "text/plain": [
       "A Jupyter Widget"
      ]
     },
     "metadata": {},
     "output_type": "display_data"
    },
    {
     "name": "stdout",
     "output_type": "stream",
     "text": [
      "Total Keypoints: \n",
      "1039\n"
     ]
    },
    {
     "data": {
      "image/png": "[encoded data removed]",
      "text/plain": [
       "<matplotlib.figure.Figure at 0x19e7457eda0>"
      ]
     },
     "metadata": {},
     "output_type": "display_data"
    }
   ],
   "source": [
    "print('threshold:')\n",
    "wThreshold = widgets.IntSlider(\n",
    "    value=40,\n",
    "    min=2,\n",
    "    max=100,\n",
    "    step=1,\n",
    "    disabled=False,\n",
    "    continuous_update=False,\n",
    "    orientation='horizontal',\n",
    "    readout=True,\n",
    "    readout_format='d',\n",
    ")\n",
    "display(wThreshold)\n",
    "\n",
    "print('nonmaxSuppression:')\n",
    "wNonmaxSuppression = widgets.Checkbox(\n",
    "    value=False,\n",
    "    disabled=False\n",
    ")\n",
    "display(wNonmaxSuppression)\n",
    "\n",
    "\n",
    "def paramsChanged(change):\n",
    "    clear_output()\n",
    "\n",
    "    print('threshold:')\n",
    "    display(wThreshold)  \n",
    "    print('nonmaxSuppression:')  \n",
    "    display(wNonmaxSuppression)\n",
    "    \n",
    "    image = cv2.imread('Sudoku.png') # Sudoku\n",
    "    gray = cv2.cvtColor(image, cv2.COLOR_RGB2GRAY)\n",
    "    \n",
    "    try:\n",
    "        fast = cv2.FastFeatureDetector_create(wThreshold.value, wNonmaxSuppression.value)\n",
    "        kp = fast.detect(gray, None)\n",
    "        print(\"Total Keypoints: \")\n",
    "        print(len(kp))\n",
    "        imgCorners = cv2.drawKeypoints(gray, kp, None, color=(0,255,0))\n",
    "        plt.imshow(imgCorners)\n",
    "        plt.show()\n",
    "        \n",
    "    except:\n",
    "        clear_output()\n",
    "        print('Invalid parametres. Try again')\n",
    "        print('threshold:')\n",
    "        display(wThreshold)  \n",
    "        print('nonmaxSuppression:')  \n",
    "        display(wNonmaxSuppression)\n",
    "        \n",
    "\n",
    "wThreshold.observe(paramsChanged, names='value')\n",
    "wNonmaxSuppression.observe(paramsChanged, names='value')"
   ]
  },
  {
   "cell_type": "code",
   "execution_count": null,
   "metadata": {
    "collapsed": true
   },
   "outputs": [],
   "source": []
  }
 ],
 "metadata": {
  "kernelspec": {
   "display_name": "Python 3",
   "language": "python",
   "name": "python3"
  },
  "language_info": {
   "codemirror_mode": {
    "name": "ipython",
    "version": 3
   },
   "file_extension": ".py",
   "mimetype": "text/x-python",
   "name": "python",
   "nbconvert_exporter": "python",
   "pygments_lexer": "ipython3",
   "version": "3.6.3"
  }
 },
 "nbformat": 4,
 "nbformat_minor": 2
}
