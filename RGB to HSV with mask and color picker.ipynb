{
 "cells": [
  {
   "cell_type": "code",
   "execution_count": 122,
   "metadata": {},
   "outputs": [
    {
     "data": {
      "application/vnd.jupyter.widget-view+json": {
       "model_id": "23439ee2909d454880fd2c5da22cd133",
       "version_major": 2,
       "version_minor": 0
      },
      "text/plain": [
       "A Jupyter Widget"
      ]
     },
     "metadata": {},
     "output_type": "display_data"
    }
   ],
   "source": [
    "import ipywidgets as widgets    \n",
    "import numpy as np\n",
    "import matplotlib.image as mpimg\n",
    "\n",
    "from IPython.display import display    \n",
    "colour = widgets.ColorPicker(concise=False, description='Pick first color', value='#000000', disabled=False)\n",
    "display(colour)\n"
   ]
  },
  {
   "cell_type": "code",
   "execution_count": 123,
   "metadata": {},
   "outputs": [
    {
     "name": "stdout",
     "output_type": "stream",
     "text": [
      "First Color in RGB [0 0 0]\n"
     ]
    }
   ],
   "source": [
    "lower_b = np.array([int(colour.value[1:3], 16), int(colour.value[3:5], 16), int(colour.value[5:7], 16)])\n",
    "print('First Color in RGB', lower_b)"
   ]
  },
  {
   "cell_type": "code",
   "execution_count": 124,
   "metadata": {},
   "outputs": [
    {
     "data": {
      "application/vnd.jupyter.widget-view+json": {
       "model_id": "7540d42c4a5a4841af666fdfd6233d8a",
       "version_major": 2,
       "version_minor": 0
      },
      "text/plain": [
       "A Jupyter Widget"
      ]
     },
     "metadata": {},
     "output_type": "display_data"
    }
   ],
   "source": [
    "colour = widgets.ColorPicker(concise=False, description='Pick second color', value='#000000', disabled=False)\n",
    "display(colour)\n"
   ]
  },
  {
   "cell_type": "code",
   "execution_count": 125,
   "metadata": {},
   "outputs": [
    {
     "name": "stdout",
     "output_type": "stream",
     "text": [
      "Second Color in RGB [0 0 0]\n"
     ]
    }
   ],
   "source": [
    "upper_b = np.array([int(colour.value[1:3], 16), int(colour.value[3:5], 16), int(colour.value[5:7], 16)])\n",
    "print('Second Color in RGB', upper_b)"
   ]
  },
  {
   "cell_type": "code",
   "execution_count": 126,
   "metadata": {},
   "outputs": [],
   "source": [
    "# переводим в HSV \n",
    "import cv2\n",
    "\n",
    "lower_b = cv2.cvtColor( np.uint8([[lower_b]]), cv2.COLOR_RGB2HSV)[0][0]\n",
    "upper_b = cv2.cvtColor( np.uint8([[upper_b]]), cv2.COLOR_RGB2HSV)[0][0]\n"
   ]
  },
  {
   "cell_type": "code",
   "execution_count": 127,
   "metadata": {},
   "outputs": [
    {
     "name": "stdout",
     "output_type": "stream",
     "text": [
      "[0 0 0]\n",
      "[0 0 0]\n"
     ]
    }
   ],
   "source": [
    "# меняем границы местами, если у первого Hue больше, чем у второго выбранного цвет\n",
    "print(lower_b)\n",
    "print(upper_b)\n",
    "\n",
    "if (lower_b[0]>upper_b[0]):\n",
    "    upper_b,lower_b = lower_b,upper_b"
   ]
  },
  {
   "cell_type": "code",
   "execution_count": 128,
   "metadata": {},
   "outputs": [
    {
     "data": {
      "image/png": "[encoded data removed]",
      "text/plain": [
       "<matplotlib.figure.Figure at 0x28cdbcf7550>"
      ]
     },
     "metadata": {},
     "output_type": "display_data"
    }
   ],
   "source": [
    "import matplotlib.pyplot as plt\n",
    "\n",
    "#Выводим диапазон\n",
    "s_gradient = np.ones((500,1), dtype=np.uint8)*np.linspace(lower_b[1], upper_b[1], 500, dtype=np.uint8)\n",
    "v_gradient = np.rot90(np.ones((500,1), dtype=np.uint8)*np.linspace(lower_b[1], upper_b[1], 500, dtype=np.uint8))\n",
    "h_array = np.arange(lower_b[0], upper_b[0]+1)\n",
    "for hue in h_array:\n",
    "    h = hue*np.ones((500,500), dtype=np.uint8)\n",
    "    hsv_color = cv2.merge((h, s_gradient, v_gradient))\n",
    "    rgb_color = cv2.cvtColor(hsv_color, cv2.COLOR_HSV2RGB)\n",
    "    plt.imshow(rgb_color) # диапазон в RGB пространстве\n",
    "    plt.show()    \n",
    "    cv2.waitKey(250)"
   ]
  },
  {
   "cell_type": "code",
   "execution_count": 129,
   "metadata": {},
   "outputs": [
    {
     "name": "stdout",
     "output_type": "stream",
     "text": [
      "Source Image (RGB)\n"
     ]
    },
    {
     "data": {
      "image/png": "[encoded data removed]",
      "text/plain": [
       "<matplotlib.figure.Figure at 0x28cdcd6cdd8>"
      ]
     },
     "metadata": {},
     "output_type": "display_data"
    },
    {
     "name": "stdout",
     "output_type": "stream",
     "text": [
      "Source Image (HSV)\n"
     ]
    },
    {
     "data": {
      "image/png": "[encoded data removed]",
      "text/plain": [
       "<matplotlib.figure.Figure at 0x28cdbb476a0>"
      ]
     },
     "metadata": {},
     "output_type": "display_data"
    }
   ],
   "source": [
    "source_img_rgb = cv2.imread('original.png')\n",
    "print(\"Source Image (RGB)\")\n",
    "plt.imshow(source_img_rgb) # Source Image (RGB)\n",
    "plt.show()\n",
    "\n",
    "# Переход в пространство HSV\n",
    "source_image_hsv = cv2.cvtColor(source_img_rgb, cv2.COLOR_RGB2HSV)\n",
    "print(\"Source Image (HSV)\")\n",
    "plt.imshow(source_image_hsv) # Source Image (HSV)\n",
    "plt.show()\n"
   ]
  },
  {
   "cell_type": "code",
   "execution_count": 130,
   "metadata": {},
   "outputs": [],
   "source": [
    "# Применение маски\n",
    "mask = np.zeros(shape=(source_img_rgb.shape[0], source_img_rgb.shape[1]), dtype=bool)\n",
    "mask = cv2.inRange(source_image_hsv, lower_b, upper_b)\n",
    "\n",
    "res_image_hsv = cv2.bitwise_and(source_image_hsv, source_image_hsv, mask=mask)\n",
    "res_image_rgb = cv2.cvtColor(res_image_hsv, cv2.COLOR_HSV2RGB)"
   ]
  },
  {
   "cell_type": "code",
   "execution_count": 131,
   "metadata": {},
   "outputs": [
    {
     "name": "stdout",
     "output_type": "stream",
     "text": [
      "RESULT image (HSV)\n"
     ]
    },
    {
     "data": {
      "image/png": "[encoded data removed]",
      "text/plain": [
       "<matplotlib.figure.Figure at 0x28cdbcfb240>"
      ]
     },
     "metadata": {},
     "output_type": "display_data"
    },
    {
     "name": "stdout",
     "output_type": "stream",
     "text": [
      "RESULT image (RGB)\n"
     ]
    },
    {
     "data": {
      "image/png": "[encoded data removed]",
      "text/plain": [
       "<matplotlib.figure.Figure at 0x28cdbb9f6a0>"
      ]
     },
     "metadata": {},
     "output_type": "display_data"
    }
   ],
   "source": [
    "\n",
    "print(\"RESULT image (HSV)\")\n",
    "plt.imshow(res_image_hsv) # \"RESULT image (HSV)\"\n",
    "plt.show()\n",
    "print(\"RESULT image (RGB)\")\n",
    "plt.imshow(res_image_rgb) # \"RESULT image (RGB)\"\n",
    "plt.show()\n",
    "\n",
    "mpimg.imsave(\"result_dz_0.png\", res_image_rgb)\n"
   ]
  }
 ],
 "metadata": {
  "kernelspec": {
   "display_name": "Python 3",
   "language": "python",
   "name": "python3"
  },
  "language_info": {
   "codemirror_mode": {
    "name": "ipython",
    "version": 3
   },
   "file_extension": ".py",
   "mimetype": "text/x-python",
   "name": "python",
   "nbconvert_exporter": "python",
   "pygments_lexer": "ipython3",
   "version": "3.6.3"
  }
 },
 "nbformat": 4,
 "nbformat_minor": 2
}
