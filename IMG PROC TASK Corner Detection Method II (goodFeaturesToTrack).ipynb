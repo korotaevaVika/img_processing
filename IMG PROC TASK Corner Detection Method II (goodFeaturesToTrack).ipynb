{
 "cells": [
  {
   "cell_type": "code",
   "execution_count": 2,
   "metadata": {},
   "outputs": [],
   "source": [
    "%matplotlib inline \n",
    "   \n",
    "import ipywidgets as widgets    \n",
    "import numpy as np\n",
    "import matplotlib.image as mpimg\n",
    "import matplotlib.pyplot as plt\n",
    "import cv2\n",
    "\n",
    "from IPython.display import clear_output"
   ]
  },
  {
   "cell_type": "code",
   "execution_count": 3,
   "metadata": {
    "collapsed": true
   },
   "outputs": [],
   "source": [
    "image = cv2.imread('Sudoku.png') # Sudoku\n",
    "gray = cv2.cvtColor(image, cv2.COLOR_RGB2GRAY)\n",
    "plt.imshow(gray, cmap = 'gray') # Source Image (RGB)\n",
    "plt.show()"
   ]
  },
  {
   "cell_type": "code",
   "execution_count": 4,
   "metadata": {
    "collapsed": true
   },
   "outputs": [],
   "source": [
    "# Method: goodFeaturesToTrack\n",
    "#\n",
    "# maxCorners\n",
    "# qualityLevel \n",
    "# minDistance between corners\n"
   ]
  },
  {
   "cell_type": "code",
   "execution_count": 6,
   "metadata": {},
   "outputs": [
    {
     "name": "stdout",
     "output_type": "stream",
     "text": [
      "maxCorners:\n"
     ]
    },
    {
     "data": {
      "application/vnd.jupyter.widget-view+json": {
       "model_id": "f012c7c50c7540dc91833ad6bf363f90",
       "version_major": 2,
       "version_minor": 0
      },
      "text/plain": [
       "A Jupyter Widget"
      ]
     },
     "metadata": {},
     "output_type": "display_data"
    },
    {
     "name": "stdout",
     "output_type": "stream",
     "text": [
      "qualityLevel:\n"
     ]
    },
    {
     "data": {
      "application/vnd.jupyter.widget-view+json": {
       "model_id": "83c21f71276749cf91bd6f5b5984650f",
       "version_major": 2,
       "version_minor": 0
      },
      "text/plain": [
       "A Jupyter Widget"
      ]
     },
     "metadata": {},
     "output_type": "display_data"
    },
    {
     "name": "stdout",
     "output_type": "stream",
     "text": [
      "minDistance:\n"
     ]
    },
    {
     "data": {
      "application/vnd.jupyter.widget-view+json": {
       "model_id": "b07bbf093db843e798b8974a23be30fe",
       "version_major": 2,
       "version_minor": 0
      },
      "text/plain": [
       "A Jupyter Widget"
      ]
     },
     "metadata": {},
     "output_type": "display_data"
    },
    {
     "data": {
      "image/png": "[encoded data removed]",
      "text/plain": [
       "<matplotlib.figure.Figure at 0x237478b1358>"
      ]
     },
     "metadata": {},
     "output_type": "display_data"
    }
   ],
   "source": [
    "print('maxCorners:')\n",
    "wMaxCorners = widgets.IntSlider(\n",
    "    value=40,\n",
    "    min=2,\n",
    "    max=100,\n",
    "    step=2,\n",
    "    disabled=False,\n",
    "    continuous_update=False,\n",
    "    orientation='horizontal',\n",
    "    readout=True,\n",
    "    readout_format='d',\n",
    ")\n",
    "display(wMaxCorners)\n",
    "\n",
    "print('qualityLevel:')\n",
    "wQuality = widgets.FloatSlider(\n",
    "    value=0.01,\n",
    "    min=0.01,\n",
    "    max=1,\n",
    "    step=0.01,\n",
    "    disabled=False,\n",
    "    continuous_update=False,\n",
    "    orientation='horizontal',\n",
    "    readout=True,\n",
    "    readout_format='.2f',\n",
    ")\n",
    "display(wQuality)\n",
    "\n",
    "print('minDistance:')\n",
    "wMinDistance = widgets.FloatSlider(\n",
    "    value=10,\n",
    "    min=0.01,\n",
    "    max=30,\n",
    "    step=0.1,\n",
    "    disabled=False,\n",
    "    continuous_update=False,\n",
    "    orientation='horizontal',\n",
    "    readout=True,\n",
    "    readout_format='.1f',\n",
    ")\n",
    "display(wMinDistance)\n",
    "\n",
    "\n",
    "img = image.copy() \n",
    "\n",
    "def paramsChanged(change):\n",
    "    clear_output()\n",
    "\n",
    "    print('maxCorners:')\n",
    "    display(wMaxCorners)  \n",
    "    print('qualityLevel:')  \n",
    "    display(wQuality)\n",
    "    print('minDistance:')  \n",
    "    display(wMinDistance)\n",
    "    \n",
    "    image = cv2.imread('Sudoku.png') # Sudoku\n",
    "    img = image.copy()\n",
    "    gray = cv2.cvtColor(image, cv2.COLOR_RGB2GRAY)\n",
    "    \n",
    "    try:\n",
    "        src = np.float32(gray)\n",
    "        \n",
    "        corners = cv2.goodFeaturesToTrack(gray,wMaxCorners.value,wQuality.value,wMinDistance.value)\n",
    "        corners = np.int0(corners)\n",
    "\n",
    "        for i in corners:\n",
    "            x,y = i.ravel()\n",
    "            cv2.circle(img,(x,y),3,255,-1)\n",
    "\n",
    "        plt.imshow(img)\n",
    "        plt.show()\n",
    "        \n",
    "    except:\n",
    "        clear_output()\n",
    "        print('Invalid parametres. Try again')\n",
    "        print('maxCorners:')\n",
    "        display(wMaxCorners)  \n",
    "        print('qualityLevel:')  \n",
    "        display(wQuality)\n",
    "        print('minDistance:')  \n",
    "        display(wMinDistance)\n",
    "        \n",
    "\n",
    "wMaxCorners.observe(paramsChanged, names='value')\n",
    "wQuality.observe(paramsChanged, names='value')\n",
    "wMinDistance.observe(paramsChanged, names='value')"
   ]
  },
  {
   "cell_type": "code",
   "execution_count": null,
   "metadata": {
    "collapsed": true
   },
   "outputs": [],
   "source": []
  }
 ],
 "metadata": {
  "kernelspec": {
   "display_name": "Python 3",
   "language": "python",
   "name": "python3"
  },
  "language_info": {
   "codemirror_mode": {
    "name": "ipython",
    "version": 3
   },
   "file_extension": ".py",
   "mimetype": "text/x-python",
   "name": "python",
   "nbconvert_exporter": "python",
   "pygments_lexer": "ipython3",
   "version": "3.6.3"
  }
 },
 "nbformat": 4,
 "nbformat_minor": 2
}
