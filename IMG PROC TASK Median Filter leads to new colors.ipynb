{
 "cells": [
  {
   "cell_type": "code",
   "execution_count": 16,
   "metadata": {
    "collapsed": true
   },
   "outputs": [],
   "source": [
    "%matplotlib inline \n",
    "   \n",
    "import ipywidgets as widgets    \n",
    "import numpy as np\n",
    "import matplotlib.image as mpimg\n",
    "import matplotlib.pyplot as plt\n",
    "import cv2\n",
    "from IPython.display import clear_output\n"
   ]
  },
  {
   "cell_type": "code",
   "execution_count": 17,
   "metadata": {
    "collapsed": true
   },
   "outputs": [],
   "source": [
    "image = cv2.imread('icon.png')"
   ]
  },
  {
   "cell_type": "code",
   "execution_count": 18,
   "metadata": {},
   "outputs": [
    {
     "data": {
      "image/png": "[encoded data removed]",
      "text/plain": [
       "<matplotlib.figure.Figure at 0x1e167013c18>"
      ]
     },
     "metadata": {},
     "output_type": "display_data"
    }
   ],
   "source": [
    "\n",
    "b = image.copy()\n",
    "# set green and red channels to 0\n",
    "b[:, :, 1] = 0\n",
    "b[:, :, 2] = 0\n",
    "\n",
    "\n",
    "g = image.copy()\n",
    "# set blue and red channels to 0\n",
    "g[:, :, 0] = 0\n",
    "g[:, :, 2] = 0\n",
    "\n",
    "r = image.copy()\n",
    "# set blue and green channels to 0\n",
    "r[:, :, 0] = 0\n",
    "r[:, :, 1] = 0\n",
    "\n",
    "\n",
    "plt.subplot(141)\n",
    "plt.imshow(image) # Source Image (RGB)\n",
    "plt.xticks([]), plt.yticks([])\n",
    "\n",
    "plt.subplot(142)\n",
    "plt.imshow(r) \n",
    "plt.xticks([]), plt.yticks([])\n",
    "\n",
    "plt.subplot(143)\n",
    "\n",
    "plt.imshow(g)\n",
    "plt.xticks([]), plt.yticks([])\n",
    "\n",
    "plt.subplot(144)\n",
    "plt.imshow(b) \n",
    "plt.xticks([]), plt.yticks([])\n",
    "\n",
    "plt.show()"
   ]
  },
  {
   "cell_type": "code",
   "execution_count": 19,
   "metadata": {},
   "outputs": [
    {
     "data": {
      "image/png": "[encoded data removed]",
      "text/plain": [
       "<matplotlib.figure.Figure at 0x1e166f82a20>"
      ]
     },
     "metadata": {},
     "output_type": "display_data"
    }
   ],
   "source": [
    "b, g, r = cv2.split(image)\n",
    "\n",
    "plt.subplot(121)\n",
    "plt.imshow(np.dstack((b, g, r))) \n",
    "plt.xticks([]), plt.yticks([])\n",
    "\n",
    "param = 51\n",
    "\n",
    "_b = cv2.medianBlur(b, param)\n",
    "_g = cv2.medianBlur(g, param)\n",
    "_r = cv2.medianBlur(r, param)\n",
    "\n",
    "rgb = np.dstack((_b, _g, _r))\n",
    "\n",
    "\n",
    "plt.subplot(122)\n",
    "plt.imshow(rgb) \n",
    "plt.xticks([]), plt.yticks([])\n",
    "plt.show()"
   ]
  },
  {
   "cell_type": "code",
   "execution_count": 23,
   "metadata": {},
   "outputs": [
    {
     "data": {
      "image/png": "[encoded data removed]",
      "text/plain": [
       "<matplotlib.figure.Figure at 0x1e165bd4d68>"
      ]
     },
     "metadata": {},
     "output_type": "display_data"
    }
   ],
   "source": [
    "im = np.zeros(image.shape)\n",
    "newcolors = rgb.copy()\n",
    "im = rgb - image\n",
    "for i in np.arange(image.shape[0]):\n",
    "    for j in np.arange(image.shape[1]):\n",
    "#         print(i, j)\n",
    "        if np.array_equal(image[i, j], newcolors[i, j]):\n",
    "            im[i, j] = [0, 0, 0]\n",
    "            newcolors[i, j] = [0, 0, 0]\n",
    "        else:\n",
    "            im[i, j] = [255, 255, 255]\n",
    "\n",
    "plt.subplot(121)\n",
    "plt.title(\"Белым обозначены пиксели нового цвета\")\n",
    "plt.xticks([]), plt.yticks([])\n",
    "plt.imshow(im)\n",
    "\n",
    "plt.subplot(122)\n",
    "plt.title(\"Собственно, новые цвета\")\n",
    "plt.imshow(newcolors)\n",
    "plt.xticks([]), plt.yticks([])\n",
    "plt.show()"
   ]
  },
  {
   "cell_type": "code",
   "execution_count": null,
   "metadata": {
    "collapsed": true
   },
   "outputs": [],
   "source": []
  }
 ],
 "metadata": {
  "kernelspec": {
   "display_name": "Python 3",
   "language": "python",
   "name": "python3"
  },
  "language_info": {
   "codemirror_mode": {
    "name": "ipython",
    "version": 3
   },
   "file_extension": ".py",
   "mimetype": "text/x-python",
   "name": "python",
   "nbconvert_exporter": "python",
   "pygments_lexer": "ipython3",
   "version": "3.6.3"
  }
 },
 "nbformat": 4,
 "nbformat_minor": 2
}
