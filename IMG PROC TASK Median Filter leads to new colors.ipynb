{
 "cells": [
  {
   "cell_type": "code",
   "execution_count": 63,
   "metadata": {
    "collapsed": true
   },
   "outputs": [],
   "source": [
    "%matplotlib inline \n",
    "   \n",
    "import ipywidgets as widgets    \n",
    "import numpy as np\n",
    "import matplotlib.image as mpimg\n",
    "import matplotlib.pyplot as plt\n",
    "import cv2\n",
    "from IPython.display import clear_output\n"
   ]
  },
  {
   "cell_type": "code",
   "execution_count": 64,
   "metadata": {},
   "outputs": [],
   "source": [
    "image = cv2.imread('icon.png')"
   ]
  },
  {
   "cell_type": "code",
   "execution_count": 65,
   "metadata": {},
   "outputs": [
    {
     "data": {
      "image/png": "[encoded data removed]",
      "text/plain": [
       "<matplotlib.figure.Figure at 0x236ec35dcc0>"
      ]
     },
     "metadata": {},
     "output_type": "display_data"
    }
   ],
   "source": [
    "\n",
    "b = image.copy()\n",
    "# set green and red channels to 0\n",
    "b[:, :, 1] = 0\n",
    "b[:, :, 2] = 0\n",
    "\n",
    "\n",
    "g = image.copy()\n",
    "# set blue and red channels to 0\n",
    "g[:, :, 0] = 0\n",
    "g[:, :, 2] = 0\n",
    "\n",
    "r = image.copy()\n",
    "# set blue and green channels to 0\n",
    "r[:, :, 0] = 0\n",
    "r[:, :, 1] = 0\n",
    "\n",
    "\n",
    "plt.subplot(141)\n",
    "plt.imshow(image) # Source Image (RGB)\n",
    "plt.xticks([]), plt.yticks([])\n",
    "\n",
    "plt.subplot(142)\n",
    "plt.imshow(r) \n",
    "plt.xticks([]), plt.yticks([])\n",
    "\n",
    "plt.subplot(143)\n",
    "\n",
    "plt.imshow(g)\n",
    "plt.xticks([]), plt.yticks([])\n",
    "\n",
    "plt.subplot(144)\n",
    "plt.imshow(b) \n",
    "plt.xticks([]), plt.yticks([])\n",
    "\n",
    "plt.show()"
   ]
  },
  {
   "cell_type": "code",
   "execution_count": 66,
   "metadata": {},
   "outputs": [
    {
     "data": {
      "image/png": "[encoded data removed]",
      "text/plain": [
       "<matplotlib.figure.Figure at 0x236ec2eee48>"
      ]
     },
     "metadata": {},
     "output_type": "display_data"
    }
   ],
   "source": [
    "b, g, r = cv2.split(image)\n",
    "\n",
    "plt.subplot(121)\n",
    "plt.imshow(np.dstack((b, g, r))) \n",
    "plt.xticks([]), plt.yticks([])\n",
    "\n",
    "param = 51\n",
    "\n",
    "_b = cv2.medianBlur(b, param)\n",
    "_g = cv2.medianBlur(g, param)\n",
    "_r = cv2.medianBlur(r, param)\n",
    "\n",
    "rgb = np.dstack((_b, _g, _r))\n",
    "\n",
    "plt.subplot(122)\n",
    "plt.imshow(rgb) \n",
    "plt.xticks([]), plt.yticks([])\n",
    "plt.show()"
   ]
  },
  {
   "cell_type": "code",
   "execution_count": null,
   "metadata": {
    "collapsed": true
   },
   "outputs": [],
   "source": []
  }
 ],
 "metadata": {
  "kernelspec": {
   "display_name": "Python 3",
   "language": "python",
   "name": "python3"
  },
  "language_info": {
   "codemirror_mode": {
    "name": "ipython",
    "version": 3
   },
   "file_extension": ".py",
   "mimetype": "text/x-python",
   "name": "python",
   "nbconvert_exporter": "python",
   "pygments_lexer": "ipython3",
   "version": "3.6.3"
  }
 },
 "nbformat": 4,
 "nbformat_minor": 2
}
