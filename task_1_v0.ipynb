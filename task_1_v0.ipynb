{
 "cells": [
  {
   "cell_type": "code",
   "execution_count": null,
   "metadata": {
    "collapsed": true
   },
   "outputs": [],
   "source": [
    "# есть картинка rgb, диапазоны для величины в HSV (если попали в один из диапазонов, то оставляем цвет, иначе 0)\n",
    "# rgb -> hsv\n",
    "# hsv - угол (тон), радиус (насыщенность), значение (светлота)\n",
    "# выводить промежуточные результаты\n",
    "import cv2\n",
    "import numpy as np\n",
    "from urllib.request import urlopen\n",
    "\n",
    "# Кажется, легче брать исходное изображение по ссылке\n",
    "# link = 'http://answers.opencv.org/upfiles/logo_2.png'\n",
    "# link = 'http://assets.runemadsen.com/circle_rgb-6c00abe1aef3327613842268b97acb01_large.jpg'\n",
    "# link = 'https://www.engineering.com/Portals/0/BlogFiles/3D%20Printing/1012/color_wheel.jpg'\n",
    "link = 'http://robocraft.ru/files/opencv/hsv-space.png'\n",
    "\n",
    "req = urlopen(link)\n",
    "arr = np.asarray(bytearray(req.read()), dtype=np.uint8)\n",
    "source_img_rgb = cv2.imdecode(arr, -1)\n",
    "cv2.imshow(\"Source Image (RGB) \", source_img_rgb)\n",
    "\n",
    "# Переход в пространство HSV\n",
    "source_image_hsv = cv2.cvtColor(source_img_rgb, cv2.COLOR_RGB2HSV)\n",
    "cv2.imshow(\"Source Image (HSV) \", source_image_hsv)\n",
    "\n",
    "# Диапазоны для HSV\n",
    "ranges = np.array([\n",
    "    [[100/2, 0, 0], [230/2, 255, 255]],\n",
    "    [[22, 0, 0], [30, 255, 255]],\n",
    "    [[1, 0, 0], [13/2, 255, 255]]])\n",
    "\n",
    "\n",
    "mask = np.zeros(shape=(source_img_rgb.shape[0], source_img_rgb.shape[1]), dtype=bool)\n",
    "for i in np.arange(0, ranges.shape[0]):\n",
    "    thisMask = cv2.inRange(source_image_hsv, ranges[i][0], ranges[i][1])\n",
    "    mask = mask | thisMask # наложение масок\n",
    "\n",
    "\n",
    "res_image_hsv = cv2.bitwise_and(source_image_hsv, source_image_hsv, mask=mask)\n",
    "res_image_rgb = cv2.cvtColor(res_image_hsv, cv2.COLOR_HSV2RGB)\n",
    "\n",
    "cv2.imshow(\"RESULT image (HSV)\", res_image_hsv)\n",
    "cv2.imshow(\"RESULT image (RGB)\", res_image_rgb)\n",
    "cv2.imwrite(\"result_dz_0.png\", res_image_rgb)\n",
    "\n",
    "cv2.waitKey()\n"
   ]
  }
 ],
 "metadata": {
  "kernelspec": {
   "display_name": "Python 3",
   "language": "python",
   "name": "python3"
  },
  "language_info": {
   "codemirror_mode": {
    "name": "ipython",
    "version": 3
   },
   "file_extension": ".py",
   "mimetype": "text/x-python",
   "name": "python",
   "nbconvert_exporter": "python",
   "pygments_lexer": "ipython3",
   "version": "3.6.3"
  }
 },
 "nbformat": 4,
 "nbformat_minor": 2
}
